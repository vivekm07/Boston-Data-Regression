{
 "cells": [
  {
   "cell_type": "code",
   "execution_count": 4,
   "metadata": {},
   "outputs": [],
   "source": [
    "import numpy as np\n",
    "import pandas as pd\n",
    "import matplotlib.pyplot as plt\n",
    "import seaborn as sns"
   ]
  },
  {
   "cell_type": "code",
   "execution_count": 5,
   "metadata": {},
   "outputs": [],
   "source": [
    "data = pd.read_csv(\"boston.csv\")"
   ]
  },
  {
   "cell_type": "code",
   "execution_count": 6,
   "metadata": {},
   "outputs": [
    {
     "data": {
      "text/html": [
       "<div>\n",
       "<style scoped>\n",
       "    .dataframe tbody tr th:only-of-type {\n",
       "        vertical-align: middle;\n",
       "    }\n",
       "\n",
       "    .dataframe tbody tr th {\n",
       "        vertical-align: top;\n",
       "    }\n",
       "\n",
       "    .dataframe thead th {\n",
       "        text-align: right;\n",
       "    }\n",
       "</style>\n",
       "<table border=\"1\" class=\"dataframe\">\n",
       "  <thead>\n",
       "    <tr style=\"text-align: right;\">\n",
       "      <th></th>\n",
       "      <th>CRIM</th>\n",
       "      <th>ZN</th>\n",
       "      <th>INDUS</th>\n",
       "      <th>CHAS</th>\n",
       "      <th>NOX</th>\n",
       "      <th>RM</th>\n",
       "      <th>AGE</th>\n",
       "      <th>DIS</th>\n",
       "      <th>RAD</th>\n",
       "      <th>TAX</th>\n",
       "      <th>PT</th>\n",
       "      <th>B</th>\n",
       "      <th>LSTAT</th>\n",
       "      <th>MV</th>\n",
       "    </tr>\n",
       "  </thead>\n",
       "  <tbody>\n",
       "    <tr>\n",
       "      <th>0</th>\n",
       "      <td>0.00632</td>\n",
       "      <td>18.0</td>\n",
       "      <td>2.31</td>\n",
       "      <td>0</td>\n",
       "      <td>0.538</td>\n",
       "      <td>6.575</td>\n",
       "      <td>65.199997</td>\n",
       "      <td>4.0900</td>\n",
       "      <td>1</td>\n",
       "      <td>296</td>\n",
       "      <td>15.300000</td>\n",
       "      <td>396.899994</td>\n",
       "      <td>4.98</td>\n",
       "      <td>24.000000</td>\n",
       "    </tr>\n",
       "    <tr>\n",
       "      <th>1</th>\n",
       "      <td>0.02731</td>\n",
       "      <td>0.0</td>\n",
       "      <td>7.07</td>\n",
       "      <td>0</td>\n",
       "      <td>0.469</td>\n",
       "      <td>6.421</td>\n",
       "      <td>78.900002</td>\n",
       "      <td>4.9671</td>\n",
       "      <td>2</td>\n",
       "      <td>242</td>\n",
       "      <td>17.799999</td>\n",
       "      <td>396.899994</td>\n",
       "      <td>9.14</td>\n",
       "      <td>21.600000</td>\n",
       "    </tr>\n",
       "    <tr>\n",
       "      <th>2</th>\n",
       "      <td>0.02729</td>\n",
       "      <td>0.0</td>\n",
       "      <td>7.07</td>\n",
       "      <td>0</td>\n",
       "      <td>0.469</td>\n",
       "      <td>7.185</td>\n",
       "      <td>61.099998</td>\n",
       "      <td>4.9671</td>\n",
       "      <td>2</td>\n",
       "      <td>242</td>\n",
       "      <td>17.799999</td>\n",
       "      <td>392.829987</td>\n",
       "      <td>4.03</td>\n",
       "      <td>34.700001</td>\n",
       "    </tr>\n",
       "    <tr>\n",
       "      <th>3</th>\n",
       "      <td>0.03237</td>\n",
       "      <td>0.0</td>\n",
       "      <td>2.18</td>\n",
       "      <td>0</td>\n",
       "      <td>0.458</td>\n",
       "      <td>6.998</td>\n",
       "      <td>45.799999</td>\n",
       "      <td>6.0622</td>\n",
       "      <td>3</td>\n",
       "      <td>222</td>\n",
       "      <td>18.700001</td>\n",
       "      <td>394.630005</td>\n",
       "      <td>2.94</td>\n",
       "      <td>33.400002</td>\n",
       "    </tr>\n",
       "    <tr>\n",
       "      <th>4</th>\n",
       "      <td>0.06905</td>\n",
       "      <td>0.0</td>\n",
       "      <td>2.18</td>\n",
       "      <td>0</td>\n",
       "      <td>0.458</td>\n",
       "      <td>7.147</td>\n",
       "      <td>54.200001</td>\n",
       "      <td>6.0622</td>\n",
       "      <td>3</td>\n",
       "      <td>222</td>\n",
       "      <td>18.700001</td>\n",
       "      <td>396.899994</td>\n",
       "      <td>5.33</td>\n",
       "      <td>36.200001</td>\n",
       "    </tr>\n",
       "    <tr>\n",
       "      <th>...</th>\n",
       "      <td>...</td>\n",
       "      <td>...</td>\n",
       "      <td>...</td>\n",
       "      <td>...</td>\n",
       "      <td>...</td>\n",
       "      <td>...</td>\n",
       "      <td>...</td>\n",
       "      <td>...</td>\n",
       "      <td>...</td>\n",
       "      <td>...</td>\n",
       "      <td>...</td>\n",
       "      <td>...</td>\n",
       "      <td>...</td>\n",
       "      <td>...</td>\n",
       "    </tr>\n",
       "    <tr>\n",
       "      <th>501</th>\n",
       "      <td>0.06263</td>\n",
       "      <td>0.0</td>\n",
       "      <td>11.93</td>\n",
       "      <td>0</td>\n",
       "      <td>0.573</td>\n",
       "      <td>6.593</td>\n",
       "      <td>69.099998</td>\n",
       "      <td>2.4786</td>\n",
       "      <td>1</td>\n",
       "      <td>273</td>\n",
       "      <td>21.000000</td>\n",
       "      <td>391.989990</td>\n",
       "      <td>9.67</td>\n",
       "      <td>22.400000</td>\n",
       "    </tr>\n",
       "    <tr>\n",
       "      <th>502</th>\n",
       "      <td>0.04527</td>\n",
       "      <td>0.0</td>\n",
       "      <td>11.93</td>\n",
       "      <td>0</td>\n",
       "      <td>0.573</td>\n",
       "      <td>6.120</td>\n",
       "      <td>76.699997</td>\n",
       "      <td>2.2875</td>\n",
       "      <td>1</td>\n",
       "      <td>273</td>\n",
       "      <td>21.000000</td>\n",
       "      <td>396.899994</td>\n",
       "      <td>9.08</td>\n",
       "      <td>20.600000</td>\n",
       "    </tr>\n",
       "    <tr>\n",
       "      <th>503</th>\n",
       "      <td>0.06076</td>\n",
       "      <td>0.0</td>\n",
       "      <td>11.93</td>\n",
       "      <td>0</td>\n",
       "      <td>0.573</td>\n",
       "      <td>6.976</td>\n",
       "      <td>91.000000</td>\n",
       "      <td>2.1675</td>\n",
       "      <td>1</td>\n",
       "      <td>273</td>\n",
       "      <td>21.000000</td>\n",
       "      <td>396.899994</td>\n",
       "      <td>5.64</td>\n",
       "      <td>23.900000</td>\n",
       "    </tr>\n",
       "    <tr>\n",
       "      <th>504</th>\n",
       "      <td>0.10959</td>\n",
       "      <td>0.0</td>\n",
       "      <td>11.93</td>\n",
       "      <td>0</td>\n",
       "      <td>0.573</td>\n",
       "      <td>6.794</td>\n",
       "      <td>89.300003</td>\n",
       "      <td>2.3889</td>\n",
       "      <td>1</td>\n",
       "      <td>273</td>\n",
       "      <td>21.000000</td>\n",
       "      <td>393.450012</td>\n",
       "      <td>6.48</td>\n",
       "      <td>22.000000</td>\n",
       "    </tr>\n",
       "    <tr>\n",
       "      <th>505</th>\n",
       "      <td>0.04741</td>\n",
       "      <td>0.0</td>\n",
       "      <td>11.93</td>\n",
       "      <td>0</td>\n",
       "      <td>0.573</td>\n",
       "      <td>6.030</td>\n",
       "      <td>80.800003</td>\n",
       "      <td>2.5050</td>\n",
       "      <td>1</td>\n",
       "      <td>273</td>\n",
       "      <td>21.000000</td>\n",
       "      <td>396.899994</td>\n",
       "      <td>7.88</td>\n",
       "      <td>11.900000</td>\n",
       "    </tr>\n",
       "  </tbody>\n",
       "</table>\n",
       "<p>506 rows × 14 columns</p>\n",
       "</div>"
      ],
      "text/plain": [
       "        CRIM    ZN  INDUS  CHAS    NOX     RM        AGE     DIS  RAD  TAX  \\\n",
       "0    0.00632  18.0   2.31     0  0.538  6.575  65.199997  4.0900    1  296   \n",
       "1    0.02731   0.0   7.07     0  0.469  6.421  78.900002  4.9671    2  242   \n",
       "2    0.02729   0.0   7.07     0  0.469  7.185  61.099998  4.9671    2  242   \n",
       "3    0.03237   0.0   2.18     0  0.458  6.998  45.799999  6.0622    3  222   \n",
       "4    0.06905   0.0   2.18     0  0.458  7.147  54.200001  6.0622    3  222   \n",
       "..       ...   ...    ...   ...    ...    ...        ...     ...  ...  ...   \n",
       "501  0.06263   0.0  11.93     0  0.573  6.593  69.099998  2.4786    1  273   \n",
       "502  0.04527   0.0  11.93     0  0.573  6.120  76.699997  2.2875    1  273   \n",
       "503  0.06076   0.0  11.93     0  0.573  6.976  91.000000  2.1675    1  273   \n",
       "504  0.10959   0.0  11.93     0  0.573  6.794  89.300003  2.3889    1  273   \n",
       "505  0.04741   0.0  11.93     0  0.573  6.030  80.800003  2.5050    1  273   \n",
       "\n",
       "            PT           B  LSTAT         MV  \n",
       "0    15.300000  396.899994   4.98  24.000000  \n",
       "1    17.799999  396.899994   9.14  21.600000  \n",
       "2    17.799999  392.829987   4.03  34.700001  \n",
       "3    18.700001  394.630005   2.94  33.400002  \n",
       "4    18.700001  396.899994   5.33  36.200001  \n",
       "..         ...         ...    ...        ...  \n",
       "501  21.000000  391.989990   9.67  22.400000  \n",
       "502  21.000000  396.899994   9.08  20.600000  \n",
       "503  21.000000  396.899994   5.64  23.900000  \n",
       "504  21.000000  393.450012   6.48  22.000000  \n",
       "505  21.000000  396.899994   7.88  11.900000  \n",
       "\n",
       "[506 rows x 14 columns]"
      ]
     },
     "execution_count": 6,
     "metadata": {},
     "output_type": "execute_result"
    }
   ],
   "source": [
    "data"
   ]
  },
  {
   "cell_type": "markdown",
   "metadata": {},
   "source": [
    "# Linear Regression"
   ]
  },
  {
   "cell_type": "code",
   "execution_count": 7,
   "metadata": {},
   "outputs": [],
   "source": [
    "from sklearn.metrics import mean_squared_error, r2_score"
   ]
  },
  {
   "cell_type": "code",
   "execution_count": 8,
   "metadata": {},
   "outputs": [],
   "source": [
    "from sklearn.model_selection import train_test_split\n",
    "df=data"
   ]
  },
  {
   "cell_type": "code",
   "execution_count": 9,
   "metadata": {},
   "outputs": [],
   "source": [
    "df[\"CRIM\"]= (df[\"CRIM\"] - df[\"CRIM\"].min())/(df[\"CRIM\"].max()- df[\"CRIM\"].min())\n",
    "df[\"RM\"]= (df[\"RM\"] - df[\"RM\"].min())/(df[\"RM\"].max()- df[\"RM\"].min())\n",
    "df[\"AGE\"]= (df[\"AGE\"] - df[\"AGE\"].min())/(df[\"AGE\"].max()- df[\"AGE\"].min())\n",
    "df[\"LSTAT\"]= (df[\"LSTAT\"] - df[\"LSTAT\"].min())/(df[\"LSTAT\"].max()- df[\"LSTAT\"].min())\n",
    "df[\"RAD\"]= (df[\"RAD\"] - df[\"RAD\"].min())/(df[\"RAD\"].max()- df[\"RAD\"].min())"
   ]
  },
  {
   "cell_type": "code",
   "execution_count": 15,
   "metadata": {},
   "outputs": [],
   "source": [
    "training_features = [ 'CRIM','RM','AGE','LSTAT','RAD']\n",
    "target = 'MV'\n",
    "X_train, X_test, Y_train, Y_test = train_test_split(df[training_features],\n",
    "                                                    df[target],\n",
    "                                                     test_size=0.15,  #0.1 to 0.2\n",
    "                                                   random_state=17)  #random state 1 to 10000"
   ]
  },
  {
   "cell_type": "code",
   "execution_count": 16,
   "metadata": {},
   "outputs": [],
   "source": [
    "from sklearn import linear_model\n",
    "model = linear_model.LinearRegression()\n",
    "from sklearn.linear_model import SGDRegressor\n",
    "#model = SGDRegressor(alpha=0.02) #alpha 0.001 to 0.1\n",
    "#model = linear_model.Ridge(alpha=10.0)\n",
    "#model = linear_model.Lasso(alpha=1.0)\n",
    "#from sklearn.neighbors import KNeighborsRegressor\n",
    "#model = KNeighborsRegressor(n_neighbors=4,p=2,weights='distance') #weights -uniform or p = 2"
   ]
  },
  {
   "cell_type": "code",
   "execution_count": 17,
   "metadata": {},
   "outputs": [
    {
     "data": {
      "text/plain": [
       "LinearRegression()"
      ]
     },
     "execution_count": 17,
     "metadata": {},
     "output_type": "execute_result"
    }
   ],
   "source": [
    "model.fit(X_train,Y_train)"
   ]
  },
  {
   "cell_type": "code",
   "execution_count": 18,
   "metadata": {},
   "outputs": [
    {
     "name": "stdout",
     "output_type": "stream",
     "text": [
      "Mean squared error: 19.30\n",
      "R Square score: 0.70\n"
     ]
    }
   ],
   "source": [
    "predicted=model.predict(X_test)\n",
    "print(\"Mean squared error: %.2f\"\n",
    "              % mean_squared_error(Y_test, predicted))\n",
    "print('R Square score: %.2f' % r2_score(Y_test, predicted))"
   ]
  },
  {
   "cell_type": "code",
   "execution_count": 19,
   "metadata": {},
   "outputs": [
    {
     "name": "stdout",
     "output_type": "stream",
     "text": [
      "Coefficients: \n",
      " [ -6.98622114  25.80918748   1.46445255 -23.27731451  -0.53500916]\n",
      "Intercept:\n",
      " 15.717515331348114\n"
     ]
    }
   ],
   "source": [
    "# The coefficients\n",
    "print('Coefficients: \\n', model.coef_)\n",
    "print('Intercept:\\n',model.intercept_)"
   ]
  },
  {
   "cell_type": "markdown",
   "metadata": {},
   "source": [
    "# SGD"
   ]
  },
  {
   "cell_type": "code",
   "execution_count": 36,
   "metadata": {},
   "outputs": [],
   "source": [
    "training_features = [ 'CRIM','RM','AGE','LSTAT','RAD']\n",
    "target = 'MV'\n",
    "X_train, X_test, Y_train, Y_test = train_test_split(df[training_features],\n",
    "                                                    df[target],\n",
    "                                                     test_size=0.12,  #0.1 to 0.2\n",
    "                                                   random_state=41)  #random state 1 to 10000"
   ]
  },
  {
   "cell_type": "code",
   "execution_count": 37,
   "metadata": {},
   "outputs": [],
   "source": [
    "from sklearn import linear_model\n",
    "#model = linear_model.LinearRegression()\n",
    "from sklearn.linear_model import SGDRegressor\n",
    "model = SGDRegressor(alpha=0.02) #alpha 0.001 to 0.1\n",
    "#model = linear_model.Ridge(alpha=10.0)\n",
    "#model = linear_model.Lasso(alpha=1.0)\n",
    "#from sklearn.neighbors import KNeighborsRegressor\n",
    "#model = KNeighborsRegressor(n_neighbors=4,p=2,weights='distance') #weights -uniform or p = 2"
   ]
  },
  {
   "cell_type": "code",
   "execution_count": 38,
   "metadata": {},
   "outputs": [
    {
     "data": {
      "text/plain": [
       "SGDRegressor(alpha=0.02)"
      ]
     },
     "execution_count": 38,
     "metadata": {},
     "output_type": "execute_result"
    }
   ],
   "source": [
    "model.fit(X_train,Y_train)"
   ]
  },
  {
   "cell_type": "code",
   "execution_count": 39,
   "metadata": {},
   "outputs": [
    {
     "name": "stdout",
     "output_type": "stream",
     "text": [
      "Mean squared error: 19.08\n",
      "R Square score: 0.61\n"
     ]
    }
   ],
   "source": [
    "predicted=model.predict(X_test)\n",
    "print(\"Mean squared error: %.2f\"\n",
    "              % mean_squared_error(Y_test, predicted))\n",
    "print('R Square score: %.2f' % r2_score(Y_test, predicted))"
   ]
  },
  {
   "cell_type": "code",
   "execution_count": 40,
   "metadata": {},
   "outputs": [
    {
     "name": "stdout",
     "output_type": "stream",
     "text": [
      "Coefficients: \n",
      " [ -2.11234515  16.26773888  -1.86606804 -14.92812425  -2.88838283]\n",
      "Intercept:\n",
      " [20.98185959]\n"
     ]
    }
   ],
   "source": [
    "# The coefficients\n",
    "print('Coefficients: \\n', model.coef_)\n",
    "print('Intercept:\\n',model.intercept_)"
   ]
  },
  {
   "cell_type": "markdown",
   "metadata": {},
   "source": [
    "# ridge"
   ]
  },
  {
   "cell_type": "code",
   "execution_count": 54,
   "metadata": {},
   "outputs": [],
   "source": [
    "training_features = [ 'CRIM','RM','AGE','LSTAT','RAD']\n",
    "target = 'MV'\n",
    "X_train, X_test, Y_train, Y_test = train_test_split(df[training_features],\n",
    "                                                    df[target],\n",
    "                                                     test_size=0.11,  #0.1 to 0.2\n",
    "                                                   random_state=99)  #random state 1 to 10000"
   ]
  },
  {
   "cell_type": "code",
   "execution_count": 55,
   "metadata": {},
   "outputs": [],
   "source": [
    "from sklearn import linear_model\n",
    "#model = linear_model.LinearRegression()\n",
    "from sklearn.linear_model import SGDRegressor\n",
    "#model = SGDRegressor(alpha=0.02) #alpha 0.001 to 0.1\n",
    "model = linear_model.Ridge(alpha=5.0)\n",
    "#model = linear_model.Lasso(alpha=1.0)\n",
    "#from sklearn.neighbors import KNeighborsRegressor\n",
    "#model = KNeighborsRegressor(n_neighbors=4,p=2,weights='distance') #weights -uniform or p = 2"
   ]
  },
  {
   "cell_type": "code",
   "execution_count": 56,
   "metadata": {},
   "outputs": [
    {
     "data": {
      "text/plain": [
       "Ridge(alpha=5.0)"
      ]
     },
     "execution_count": 56,
     "metadata": {},
     "output_type": "execute_result"
    }
   ],
   "source": [
    "model.fit(X_train,Y_train)"
   ]
  },
  {
   "cell_type": "code",
   "execution_count": 57,
   "metadata": {},
   "outputs": [
    {
     "name": "stdout",
     "output_type": "stream",
     "text": [
      "Mean squared error: 19.85\n",
      "R Square score: 0.70\n"
     ]
    }
   ],
   "source": [
    "predicted=model.predict(X_test)\n",
    "print(\"Mean squared error: %.2f\"\n",
    "              % mean_squared_error(Y_test, predicted))\n",
    "print('R Square score: %.2f' % r2_score(Y_test, predicted))"
   ]
  },
  {
   "cell_type": "code",
   "execution_count": 58,
   "metadata": {},
   "outputs": [
    {
     "name": "stdout",
     "output_type": "stream",
     "text": [
      "Coefficients: \n",
      " [ -3.97556457  18.48424485  -0.55315158 -18.64567595  -2.07567357]\n",
      "Intercept:\n",
      " 19.754143054259345\n"
     ]
    }
   ],
   "source": [
    "# The coefficients\n",
    "print('Coefficients: \\n', model.coef_)\n",
    "print('Intercept:\\n',model.intercept_)"
   ]
  },
  {
   "cell_type": "markdown",
   "metadata": {},
   "source": [
    "# Lasso"
   ]
  },
  {
   "cell_type": "code",
   "execution_count": 64,
   "metadata": {},
   "outputs": [],
   "source": [
    "training_features = [ 'CRIM','RM','AGE','LSTAT','RAD']\n",
    "target = 'MV'\n",
    "X_train, X_test, Y_train, Y_test = train_test_split(df[training_features],\n",
    "                                                    df[target],\n",
    "                                                     test_size=0.12,  #0.1 to 0.2\n",
    "                                                   random_state=75)  #random state 1 to 10000"
   ]
  },
  {
   "cell_type": "code",
   "execution_count": 65,
   "metadata": {},
   "outputs": [],
   "source": [
    "from sklearn import linear_model\n",
    "#model = linear_model.LinearRegression()\n",
    "from sklearn.linear_model import SGDRegressor\n",
    "#model = SGDRegressor(alpha=0.02) #alpha 0.001 to 0.1\n",
    "#model = linear_model.Ridge(alpha=10.0)\n",
    "model = linear_model.Lasso(alpha=1.0)\n",
    "#from sklearn.neighbors import KNeighborsRegressor\n",
    "#model = KNeighborsRegressor(n_neighbors=4,p=2,weights='distance') #weights -uniform or p = 2"
   ]
  },
  {
   "cell_type": "code",
   "execution_count": 66,
   "metadata": {},
   "outputs": [
    {
     "data": {
      "text/plain": [
       "Lasso()"
      ]
     },
     "execution_count": 66,
     "metadata": {},
     "output_type": "execute_result"
    }
   ],
   "source": [
    "model.fit(X_train,Y_train)"
   ]
  },
  {
   "cell_type": "code",
   "execution_count": 67,
   "metadata": {},
   "outputs": [
    {
     "name": "stdout",
     "output_type": "stream",
     "text": [
      "Mean squared error: 51.56\n",
      "R Square score: 0.26\n"
     ]
    }
   ],
   "source": [
    "predicted=model.predict(X_test)\n",
    "print(\"Mean squared error: %.2f\"\n",
    "              % mean_squared_error(Y_test, predicted))\n",
    "print('R Square score: %.2f' % r2_score(Y_test, predicted))"
   ]
  },
  {
   "cell_type": "code",
   "execution_count": 68,
   "metadata": {},
   "outputs": [
    {
     "name": "stdout",
     "output_type": "stream",
     "text": [
      "Coefficients: \n",
      " [-0.          0.         -0.         -9.15583281 -0.        ]\n",
      "Intercept:\n",
      " 25.300844136606788\n"
     ]
    }
   ],
   "source": [
    "# The coefficients\n",
    "print('Coefficients: \\n', model.coef_)\n",
    "print('Intercept:\\n',model.intercept_)"
   ]
  },
  {
   "cell_type": "markdown",
   "metadata": {},
   "source": [
    "# KNN"
   ]
  },
  {
   "cell_type": "code",
   "execution_count": 69,
   "metadata": {},
   "outputs": [],
   "source": [
    "training_features = [ 'CRIM','RM','AGE','LSTAT','RAD']\n",
    "target = 'MV'\n",
    "X_train, X_test, Y_train, Y_test = train_test_split(df[training_features],\n",
    "                                                    df[target],\n",
    "                                                     test_size=0.12,  #0.1 to 0.2\n",
    "                                                   random_state=755)  #random state 1 to 10000"
   ]
  },
  {
   "cell_type": "code",
   "execution_count": 70,
   "metadata": {},
   "outputs": [],
   "source": [
    "from sklearn import linear_model\n",
    "#model = linear_model.LinearRegression()\n",
    "from sklearn.linear_model import SGDRegressor\n",
    "#model = SGDRegressor(alpha=0.02) #alpha 0.001 to 0.1\n",
    "#model = linear_model.Ridge(alpha=10.0)\n",
    "#model = linear_model.Lasso(alpha=1.0)\n",
    "from sklearn.neighbors import KNeighborsRegressor\n",
    "model = KNeighborsRegressor(n_neighbors=4,p=2,weights='distance') #weights -uniform or p = 2"
   ]
  },
  {
   "cell_type": "code",
   "execution_count": 71,
   "metadata": {},
   "outputs": [
    {
     "data": {
      "text/plain": [
       "KNeighborsRegressor(n_neighbors=4, weights='distance')"
      ]
     },
     "execution_count": 71,
     "metadata": {},
     "output_type": "execute_result"
    }
   ],
   "source": [
    "model.fit(X_train,Y_train)"
   ]
  },
  {
   "cell_type": "code",
   "execution_count": 72,
   "metadata": {},
   "outputs": [
    {
     "name": "stdout",
     "output_type": "stream",
     "text": [
      "Mean squared error: 16.70\n",
      "R Square score: 0.87\n"
     ]
    }
   ],
   "source": [
    "predicted=model.predict(X_test)\n",
    "print(\"Mean squared error: %.2f\"\n",
    "              % mean_squared_error(Y_test, predicted))\n",
    "print('R Square score: %.2f' % r2_score(Y_test, predicted))"
   ]
  }
 ],
 "metadata": {
  "kernelspec": {
   "display_name": "Python 3",
   "language": "python",
   "name": "python3"
  },
  "language_info": {
   "codemirror_mode": {
    "name": "ipython",
    "version": 3
   },
   "file_extension": ".py",
   "mimetype": "text/x-python",
   "name": "python",
   "nbconvert_exporter": "python",
   "pygments_lexer": "ipython3",
   "version": "3.8.3"
  }
 },
 "nbformat": 4,
 "nbformat_minor": 2
}
